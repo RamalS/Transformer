{
 "cells": [
  {
   "cell_type": "code",
   "execution_count": 3,
   "metadata": {},
   "outputs": [],
   "source": [
    "import pandas as pd\n",
    "import os"
   ]
  },
  {
   "cell_type": "code",
   "execution_count": 5,
   "metadata": {},
   "outputs": [
    {
     "data": {
      "text/html": [
       "<div>\n",
       "<style scoped>\n",
       "    .dataframe tbody tr th:only-of-type {\n",
       "        vertical-align: middle;\n",
       "    }\n",
       "\n",
       "    .dataframe tbody tr th {\n",
       "        vertical-align: top;\n",
       "    }\n",
       "\n",
       "    .dataframe thead th {\n",
       "        text-align: right;\n",
       "    }\n",
       "</style>\n",
       "<table border=\"1\" class=\"dataframe\">\n",
       "  <thead>\n",
       "    <tr style=\"text-align: right;\">\n",
       "      <th></th>\n",
       "      <th>EN</th>\n",
       "      <th>HR</th>\n",
       "    </tr>\n",
       "  </thead>\n",
       "  <tbody>\n",
       "    <tr>\n",
       "      <th>0</th>\n",
       "      <td>Agreement between the European Community and t...</td>\n",
       "      <td>Sporazum između Europske zajednice i Kraljevin...</td>\n",
       "    </tr>\n",
       "    <tr>\n",
       "      <th>1</th>\n",
       "      <td>This means that the provisions of Implementing...</td>\n",
       "      <td>To znači da će se odredbe Provedbene uredbe Ko...</td>\n",
       "    </tr>\n",
       "    <tr>\n",
       "      <th>2</th>\n",
       "      <td>In accordance with Article 4(4) of the Agreeme...</td>\n",
       "      <td>U skladu s člankom 4. stavkom 4. Sporazuma, ob...</td>\n",
       "    </tr>\n",
       "    <tr>\n",
       "      <th>3</th>\n",
       "      <td>Thus, Implementing Regulation (EU) No 1142/201...</td>\n",
       "      <td>Stoga Provedbena uredba (EU) br. 1142/2011 čin...</td>\n",
       "    </tr>\n",
       "    <tr>\n",
       "      <th>4</th>\n",
       "      <td>OJ L 299, 16.11.2005, p. 62.</td>\n",
       "      <td>SL L 299, 16.11.2005., str. 62.</td>\n",
       "    </tr>\n",
       "    <tr>\n",
       "      <th>...</th>\n",
       "      <td>...</td>\n",
       "      <td>...</td>\n",
       "    </tr>\n",
       "    <tr>\n",
       "      <th>1557156</th>\n",
       "      <td>Director</td>\n",
       "      <td>Direktor</td>\n",
       "    </tr>\n",
       "    <tr>\n",
       "      <th>1557157</th>\n",
       "      <td>OJ L 79, 19.3.2008, p. 1.</td>\n",
       "      <td>SL L 79, 19.3.2008., str. 1.</td>\n",
       "    </tr>\n",
       "    <tr>\n",
       "      <th>1557158</th>\n",
       "      <td>The act mentioned at point 66qa of Annex XIII ...</td>\n",
       "      <td>Akt naveden u točki 66.qa Priloga XIII. Sporaz...</td>\n",
       "    </tr>\n",
       "    <tr>\n",
       "      <th>1557159</th>\n",
       "      <td>The act mentioned at point 66q of Annex XIII t...</td>\n",
       "      <td>Akt naveden u točki 66.q Priloga XIII. Sporazu...</td>\n",
       "    </tr>\n",
       "    <tr>\n",
       "      <th>1557160</th>\n",
       "      <td>See, Commission Decision (EU) 2016/2357 of 19 ...</td>\n",
       "      <td>Vidjeti Odluku Komisije (EU) 2016/2357 оd 19. ...</td>\n",
       "    </tr>\n",
       "  </tbody>\n",
       "</table>\n",
       "<p>1557161 rows × 2 columns</p>\n",
       "</div>"
      ],
      "text/plain": [
       "                                                        EN  \\\n",
       "0        Agreement between the European Community and t...   \n",
       "1        This means that the provisions of Implementing...   \n",
       "2        In accordance with Article 4(4) of the Agreeme...   \n",
       "3        Thus, Implementing Regulation (EU) No 1142/201...   \n",
       "4                             OJ L 299, 16.11.2005, p. 62.   \n",
       "...                                                    ...   \n",
       "1557156                                           Director   \n",
       "1557157                          OJ L 79, 19.3.2008, p. 1.   \n",
       "1557158  The act mentioned at point 66qa of Annex XIII ...   \n",
       "1557159  The act mentioned at point 66q of Annex XIII t...   \n",
       "1557160  See, Commission Decision (EU) 2016/2357 of 19 ...   \n",
       "\n",
       "                                                        HR  \n",
       "0        Sporazum između Europske zajednice i Kraljevin...  \n",
       "1        To znači da će se odredbe Provedbene uredbe Ko...  \n",
       "2        U skladu s člankom 4. stavkom 4. Sporazuma, ob...  \n",
       "3        Stoga Provedbena uredba (EU) br. 1142/2011 čin...  \n",
       "4                          SL L 299, 16.11.2005., str. 62.  \n",
       "...                                                    ...  \n",
       "1557156                                           Direktor  \n",
       "1557157                       SL L 79, 19.3.2008., str. 1.  \n",
       "1557158  Akt naveden u točki 66.qa Priloga XIII. Sporaz...  \n",
       "1557159  Akt naveden u točki 66.q Priloga XIII. Sporazu...  \n",
       "1557160  Vidjeti Odluku Komisije (EU) 2016/2357 оd 19. ...  \n",
       "\n",
       "[1557161 rows x 2 columns]"
      ]
     },
     "execution_count": 5,
     "metadata": {},
     "output_type": "execute_result"
    }
   ],
   "source": [
    "pd.read_csv(\"EN-HR.txt\", sep=\"\\t\", header=None)[[0,1]].rename(columns={0: \"EN\", 1: \"HR\"})"
   ]
  },
  {
   "cell_type": "code",
   "execution_count": 18,
   "metadata": {},
   "outputs": [
    {
     "ename": "XMLSyntaxError",
     "evalue": "PCDATA invalid Char value 27, line 177635, column 244 (<string>, line 177635)",
     "output_type": "error",
     "traceback": [
      "Traceback \u001b[1;36m(most recent call last)\u001b[0m:\n",
      "\u001b[0m  File \u001b[0;32m~\\AppData\\Roaming\\Python\\Python311\\site-packages\\IPython\\core\\interactiveshell.py:3526\u001b[0m in \u001b[0;35mrun_code\u001b[0m\n    exec(code_obj, self.user_global_ns, self.user_ns)\u001b[0m\n",
      "\u001b[0m  Cell \u001b[0;32mIn[18], line 4\u001b[0m\n    tmx_file = tmxfile(fin, 'en', 'hr')\u001b[0m\n",
      "\u001b[0m  File \u001b[0;32mc:\\Users\\Ramal\\AppData\\Local\\Programs\\Python\\Python311\\Lib\\site-packages\\translate\\storage\\lisa.py:279\u001b[0m in \u001b[0;35m__init__\u001b[0m\n    self.parse(inputfile)\u001b[0m\n",
      "\u001b[0m  File \u001b[0;32mc:\\Users\\Ramal\\AppData\\Local\\Programs\\Python\\Python311\\Lib\\site-packages\\translate\\storage\\lisa.py:373\u001b[0m in \u001b[0;35mparse\u001b[0m\n    self.document = etree.fromstring(xml, parser).getroottree()\u001b[0m\n",
      "\u001b[0m  File \u001b[0;32msrc\\lxml\\etree.pyx:3257\u001b[0m in \u001b[0;35mlxml.etree.fromstring\u001b[0m\n",
      "\u001b[0m  File \u001b[0;32msrc\\lxml\\parser.pxi:1916\u001b[0m in \u001b[0;35mlxml.etree._parseMemoryDocument\u001b[0m\n",
      "\u001b[0m  File \u001b[0;32msrc\\lxml\\parser.pxi:1803\u001b[0m in \u001b[0;35mlxml.etree._parseDoc\u001b[0m\n",
      "\u001b[0m  File \u001b[0;32msrc\\lxml\\parser.pxi:1144\u001b[0m in \u001b[0;35mlxml.etree._BaseParser._parseDoc\u001b[0m\n",
      "\u001b[0m  File \u001b[0;32msrc\\lxml\\parser.pxi:618\u001b[0m in \u001b[0;35mlxml.etree._ParserContext._handleParseResultDoc\u001b[0m\n",
      "\u001b[0m  File \u001b[0;32msrc\\lxml\\parser.pxi:728\u001b[0m in \u001b[0;35mlxml.etree._handleParseResult\u001b[0m\n",
      "\u001b[1;36m  File \u001b[1;32msrc\\lxml\\parser.pxi:657\u001b[1;36m in \u001b[1;35mlxml.etree._raiseParseError\u001b[1;36m\n",
      "\u001b[1;36m  File \u001b[1;32m<string>:177635\u001b[1;36m\u001b[0m\n\u001b[1;31mXMLSyntaxError\u001b[0m\u001b[1;31m:\u001b[0m PCDATA invalid Char value 27, line 177635, column 244\n"
     ]
    }
   ],
   "source": [
    "\n",
    "from translate.storage.tmx import tmxfile\n",
    "\n",
    "with open(\"hr-en.tmx\", 'rb') as fin:\n",
    "    tmx_file = tmxfile(fin, 'en', 'hr')\n",
    "\n",
    "# return first\n",
    "node = tmx_file.unit_iter().__next__()\n",
    "print(node.source)\n",
    "print(node.target)"
   ]
  }
 ],
 "metadata": {
  "kernelspec": {
   "display_name": "Python 3",
   "language": "python",
   "name": "python3"
  },
  "language_info": {
   "codemirror_mode": {
    "name": "ipython",
    "version": 3
   },
   "file_extension": ".py",
   "mimetype": "text/x-python",
   "name": "python",
   "nbconvert_exporter": "python",
   "pygments_lexer": "ipython3",
   "version": "3.11.5"
  },
  "orig_nbformat": 4
 },
 "nbformat": 4,
 "nbformat_minor": 2
}

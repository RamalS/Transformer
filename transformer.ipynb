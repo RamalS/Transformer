{
 "cells": [
  {
   "cell_type": "code",
   "execution_count": 2,
   "metadata": {},
   "outputs": [],
   "source": [
    "import json\n",
    "import torch\n",
    "import torch.nn as nn\n",
    "import math\n",
    "from torch.utils.data import Dataset, DataLoader\n",
    "import collections\n",
    "from tqdm.notebook import tqdm\n",
    "import uuid"
   ]
  },
  {
   "cell_type": "code",
   "execution_count": 3,
   "metadata": {},
   "outputs": [
    {
     "name": "stdout",
     "output_type": "stream",
     "text": [
      "Using cuda\n"
     ]
    }
   ],
   "source": [
    "device = torch.device('cuda' if torch.cuda.is_available() else 'cpu')\n",
    "print(f\"Using {device}\")"
   ]
  },
  {
   "cell_type": "markdown",
   "metadata": {},
   "source": [
    "#### MultiHadAttention\n",
    "\n",
    "Attention($Q$, $K$, $V$) = softmax($\\frac {QK^T} {\\sqrt {d_k}}$)$V$\n",
    "\n",
    "![attention](./images/attention.jpg)"
   ]
  },
  {
   "cell_type": "code",
   "execution_count": 4,
   "metadata": {},
   "outputs": [],
   "source": [
    "class MultiHeadAttention(nn.Module):\n",
    "    def __init__(self, d_model, num_heads):\n",
    "        super().__init__()\n",
    "\n",
    "        self.d_model = d_model\n",
    "        self.num_heads = num_heads\n",
    "        self.d_k = d_model // num_heads\n",
    "\n",
    "        self.W_Q = nn.Linear(d_model, d_model)\n",
    "        self.W_K = nn.Linear(d_model, d_model)\n",
    "        self.W_V = nn.Linear(d_model, d_model)\n",
    "\n",
    "        self.output_linear = nn.Linear(d_model, d_model)\n",
    "\n",
    "    def scaled_dot_product_attention(self, Q, K, V, mask=None):\n",
    "        # matmul Q and K and scale\n",
    "        scores = torch.matmul(Q, K.transpose(-2, -1)) / math.sqrt(self.d_k)\n",
    "\n",
    "        # apply mask\n",
    "        if mask is not None:\n",
    "            scores = scores.masked_fill(mask == 0, -1e9)\n",
    "\n",
    "        # softmax layer\n",
    "        attention = torch.softmax(scores, dim=-1)\n",
    "\n",
    "        # matmul attention and V\n",
    "        context = torch.matmul(attention, V)\n",
    "\n",
    "        return context\n",
    "    \n",
    "    def split_heads(self, x):\n",
    "        batch_size, seq_len, _ = x.size()\n",
    "\n",
    "        return x.view(batch_size, seq_len, self.num_heads, self.d_k).transpose(1, 2)\n",
    "    \n",
    "    def combine_heads(self, x):\n",
    "        batch_size, _, seq_len, _ = x.size()\n",
    "\n",
    "        return x.transpose(1, 2).contiguous().view(batch_size, seq_len, -1)\n",
    "    \n",
    "    def forward(self, Q, K, V, mask=None):\n",
    "        # batch_size x seq_len x d_model\n",
    "        Q = self.W_Q(Q)\n",
    "        K = self.W_K(K)\n",
    "        V = self.W_V(V)\n",
    "\n",
    "        # batch_size x num_heads x seq_len x d_k\n",
    "        Q = self.split_heads(Q)\n",
    "        K = self.split_heads(K)\n",
    "        V = self.split_heads(V)\n",
    "\n",
    "        attention = self.scaled_dot_product_attention(Q, K, V, mask)\n",
    "\n",
    "        # batch_size x seq_len x d_model\n",
    "        attention = self.combine_heads(attention)\n",
    "\n",
    "        output = self.output_linear(attention)\n",
    "\n",
    "        return output\n"
   ]
  },
  {
   "cell_type": "markdown",
   "metadata": {},
   "source": [
    "#### Positional Encoding\n",
    "\n",
    "$PE_{(pos, 2i)} = sin(pos / 10000^{2i / d_{model}})$, for even\n",
    "\n",
    "$PE_{(pos, 2i+1)} = cos(pos / 10000^{2i / d_{model}})$, for odd"
   ]
  },
  {
   "cell_type": "code",
   "execution_count": 5,
   "metadata": {},
   "outputs": [],
   "source": [
    "class PositionalEncoding(nn.Module):\n",
    "    def __init__(self, d_model, max_seq_length):\n",
    "        super(PositionalEncoding, self).__init__()\n",
    "        \n",
    "        pe = torch.zeros(max_seq_length, d_model)\n",
    "        position = torch.arange(0, max_seq_length, \n",
    "                                dtype=torch.float).unsqueeze(1)\n",
    "        div_term = torch.exp(torch.arange(0, d_model, 2)\n",
    "                             .float() * -(math.log(10000.0) / d_model))\n",
    "        \n",
    "        pe[:, 0::2] = torch.sin(position * div_term)\n",
    "        pe[:, 1::2] = torch.cos(position * div_term)\n",
    "        \n",
    "        self.register_buffer('pe', pe.unsqueeze(0))\n",
    "        \n",
    "    def forward(self, x):\n",
    "        return x + self.pe[:, :x.size(1)]"
   ]
  },
  {
   "cell_type": "markdown",
   "metadata": {},
   "source": [
    "#### Position wise feed forward network"
   ]
  },
  {
   "cell_type": "code",
   "execution_count": 6,
   "metadata": {},
   "outputs": [],
   "source": [
    "class PositionWiseFeedForward(nn.Module):\n",
    "    def __init__(self, d_model, d_ff):\n",
    "        super().__init__()\n",
    "\n",
    "        self.linear1 = nn.Linear(d_model, d_ff)\n",
    "        self.linear2 = nn.Linear(d_ff, d_model)\n",
    "\n",
    "    def forward(self, x):\n",
    "        x = self.linear1(x) # d_model x d_ff\n",
    "        x = torch.relu(x)\n",
    "        x = self.linear2(x) # d_ff x d_model\n",
    "\n",
    "        return x"
   ]
  },
  {
   "cell_type": "markdown",
   "metadata": {},
   "source": [
    "#### Encoder\n",
    "\n",
    "![encoder](./images/encoder.jpg)"
   ]
  },
  {
   "cell_type": "code",
   "execution_count": 7,
   "metadata": {},
   "outputs": [],
   "source": [
    "class EncoderLayer(nn.Module):\n",
    "    def __init__(self, d_model, num_heads, d_ff, dropout=0.1):\n",
    "        super().__init__()\n",
    "\n",
    "        self.multi_head_attention = MultiHeadAttention(d_model, num_heads)\n",
    "        self.position_wise_feed_forward = PositionWiseFeedForward(d_model, d_ff)\n",
    "\n",
    "        self.layer_norm1 = nn.LayerNorm(d_model)\n",
    "        self.layer_norm2 = nn.LayerNorm(d_model)\n",
    "\n",
    "        self.dropout1 = nn.Dropout(dropout)\n",
    "        self.dropout2 = nn.Dropout(dropout)\n",
    "\n",
    "    def forward(self, x, mask=None):\n",
    "        # multi-head attention\n",
    "        attention = self.multi_head_attention(x, x, x, mask)\n",
    "\n",
    "        # add and norm\n",
    "        x = self.layer_norm1(x + attention)\n",
    "        x = self.dropout1(x)\n",
    "\n",
    "        # position-wise feed forward\n",
    "        feed_forward = self.position_wise_feed_forward(x)\n",
    "\n",
    "        # add and norm\n",
    "        x = self.layer_norm2(x + feed_forward)\n",
    "        x = self.dropout2(x)\n",
    "\n",
    "        return x"
   ]
  },
  {
   "cell_type": "markdown",
   "metadata": {},
   "source": [
    "#### Decoder\n",
    "\n",
    "![decoder](./images/decoder.jpg)"
   ]
  },
  {
   "cell_type": "code",
   "execution_count": 8,
   "metadata": {},
   "outputs": [],
   "source": [
    "class DecoderLayer(nn.Module):\n",
    "    def __init__(self, d_model, num_heads, d_ff, dropout):\n",
    "        super().__init__()\n",
    "\n",
    "        self.multi_head_attention1 = MultiHeadAttention(d_model, num_heads)\n",
    "        self.multi_head_attention2 = MultiHeadAttention(d_model, num_heads)\n",
    "\n",
    "        self.position_wise_feed_forward = PositionWiseFeedForward(d_model, d_ff)\n",
    "\n",
    "        self.layer_norm1 = nn.LayerNorm(d_model)\n",
    "        self.layer_norm2 = nn.LayerNorm(d_model)\n",
    "        self.layer_norm3 = nn.LayerNorm(d_model)\n",
    "\n",
    "        self.dropout1 = nn.Dropout(dropout)\n",
    "        self.dropout2 = nn.Dropout(dropout)\n",
    "        self.dropout3 = nn.Dropout(dropout)\n",
    "\n",
    "    def forward(self, x, encoder_output, src_mask=None, trg_mask=None):\n",
    "        # masked multi-head attention\n",
    "        masked_attention = self.multi_head_attention1(x, x, x, trg_mask)\n",
    "\n",
    "        # add and norm\n",
    "        x = self.layer_norm1(x + masked_attention)\n",
    "        x = self.dropout1(x)\n",
    "\n",
    "        # multi-head attention\n",
    "        attention = self.multi_head_attention2(x, encoder_output, encoder_output, src_mask)\n",
    "\n",
    "        # add and norm\n",
    "        x = self.layer_norm2(x + attention)\n",
    "        x = self.dropout2(x)\n",
    "\n",
    "        # position-wise feed forward\n",
    "        feed_forward = self.position_wise_feed_forward(x)\n",
    "\n",
    "        # add and norm\n",
    "        x = self.layer_norm3(x + feed_forward)\n",
    "        x = self.dropout3(x)\n",
    "\n",
    "        return x\n",
    "        "
   ]
  },
  {
   "cell_type": "markdown",
   "metadata": {},
   "source": [
    "#### Transformer"
   ]
  },
  {
   "cell_type": "code",
   "execution_count": 9,
   "metadata": {},
   "outputs": [],
   "source": [
    "class Transformer(nn.Module):\n",
    "    def __init__(self, src_vocab_size, tgt_vocab_size, d_model, num_heads, num_layers, d_ff, max_seq_length, dropout):\n",
    "        super().__init__()\n",
    "\n",
    "        self.src_embedding = nn.Embedding(src_vocab_size, d_model)\n",
    "        self.tgt_embedding = nn.Embedding(tgt_vocab_size, d_model)\n",
    "\n",
    "        self.positional_encoding = PositionalEncoding(d_model, max_seq_length)\n",
    "\n",
    "        self.encoder_layers = nn.ModuleList([EncoderLayer(d_model, num_heads, d_ff, dropout) for _ in range(num_layers)])\n",
    "        self.decoder_layers = nn.ModuleList([DecoderLayer(d_model, num_heads, d_ff, dropout) for _ in range(num_layers)])\n",
    "\n",
    "        self.linear = nn.Linear(d_model, tgt_vocab_size)\n",
    "    \n",
    "    def generate_mask(self, src, tgt):\n",
    "        src_mask = (src != 0).unsqueeze(1).unsqueeze(2).to(device)\n",
    "        tgt_mask = (tgt != 0).unsqueeze(1).unsqueeze(3).to(device)\n",
    "        seq_length = tgt.size(1)\n",
    "        nopeak_mask = (1 - torch.triu(torch.ones(1, seq_length, seq_length), diagonal=1)).bool().to(device)\n",
    "        tgt_mask = tgt_mask & nopeak_mask\n",
    "        \n",
    "        return src_mask, tgt_mask\n",
    "    \n",
    "    def forward(self, src, tgt):\n",
    "        src_mask, tgt_mask = self.generate_mask(src, tgt)\n",
    "\n",
    "        src = self.src_embedding(src)\n",
    "        tgt = self.tgt_embedding(tgt)\n",
    "\n",
    "        src = self.positional_encoding(src)\n",
    "        tgt = self.positional_encoding(tgt)\n",
    "\n",
    "        for layer in self.encoder_layers:\n",
    "            src = layer(src, src_mask)\n",
    "        \n",
    "        for layer in self.decoder_layers:\n",
    "            tgt = layer(tgt, src, src_mask, tgt_mask)\n",
    "        \n",
    "        output = self.linear(tgt)\n",
    "\n",
    "        return output"
   ]
  },
  {
   "cell_type": "markdown",
   "metadata": {},
   "source": [
    "#### Loading data"
   ]
  },
  {
   "cell_type": "code",
   "execution_count": 10,
   "metadata": {},
   "outputs": [],
   "source": [
    "en = []\n",
    "hr = []\n",
    "\n",
    "with open('palesamnasvijetu.txt', 'r', encoding = 'utf-8') as file:\n",
    "    lines = file.readlines()\n",
    "\n",
    "    i = 0\n",
    "\n",
    "    for line in lines:\n",
    "        if i == 0:\n",
    "            hr.append(line)\n",
    "            i = 1\n",
    "        elif i == 1:\n",
    "            en.append(line)\n",
    "            i = 2\n",
    "        else:\n",
    "            i = 0"
   ]
  },
  {
   "cell_type": "code",
   "execution_count": 11,
   "metadata": {},
   "outputs": [],
   "source": [
    "# Character tokenization\n",
    "hr_tokens = [list(sentence) for sentence in hr]\n",
    "en_tokens = [list(sentence) for sentence in en]\n",
    "\n",
    "# Flatten character tokens\n",
    "# hr_flat_tokens = [token.lower() for sentence_tokens in hr_tokens for token in sentence_tokens]\n",
    "# en_flat_tokens = [token.lower() for sentence_tokens in en_tokens for token in sentence_tokens]\n",
    "\n",
    "hr_flat_tokens = [' ', '!', '\"', '#', '$', '%', '&', \"'\", '(', ')', '*', '+', ',', '-', '.', '/', \n",
    "                        '0', '1', '2', '3', '4', '5', '6', '7', '8', '9',\n",
    "                        ':', '<', '=', '>', '?', '@',\n",
    "                        '[', '\\\\', ']', '^', '_', '`', \n",
    "                        'a', 'b', 'c', 'd', 'e', 'f', 'g', 'h', 'i', 'j', 'k', 'l',\n",
    "                        'm', 'n', 'o', 'p', 'q', 'r', 's', 't', 'u', 'v', 'w', 'x', \n",
    "                        'y', 'z', \n",
    "                        '{', '|', '}', '~', 'č', 'ć', 'đ', 'š', 'ž']\n",
    "en_flat_tokens = [' ', '!', '\"', '#', '$', '%', '&', \"'\", '(', ')', '*', '+', ',', '-', '.', '/', \n",
    "                        '0', '1', '2', '3', '4', '5', '6', '7', '8', '9',\n",
    "                        ':', '<', '=', '>', '?', '@',\n",
    "                        '[', '\\\\', ']', '^', '_', '`', \n",
    "                        'a', 'b', 'c', 'd', 'e', 'f', 'g', 'h', 'i', 'j', 'k', 'l',\n",
    "                        'm', 'n', 'o', 'p', 'q', 'r', 's', 't', 'u', 'v', 'w', 'x', \n",
    "                        'y', 'z', \n",
    "                        '{', '|', '}', '~']\n",
    "\n",
    "# Count character frequencies\n",
    "hr_vocab_counter = collections.Counter(hr_flat_tokens)\n",
    "en_vocab_counter = collections.Counter(en_flat_tokens)\n",
    "\n",
    "# Special tokens and vocabulary\n",
    "special_tokens = [\"<PAD>\", \"<UNK>\", \"<START>\", \"<END>\"]\n",
    "hr_vocab = special_tokens + sorted(hr_vocab_counter.keys())\n",
    "en_vocab = special_tokens + sorted(en_vocab_counter.keys())\n",
    "\n",
    "# Create token-to-index and index-to-token dictionaries\n",
    "hr_token2index = {token: idx for idx, token in enumerate(hr_vocab)}\n",
    "en_token2index = {token: idx for idx, token in enumerate(en_vocab)}\n",
    "hr_index2token = {idx: token for idx, token in enumerate(hr_vocab)}\n",
    "en_index2token = {idx: token for idx, token in enumerate(en_vocab)}"
   ]
  },
  {
   "cell_type": "code",
   "execution_count": 12,
   "metadata": {},
   "outputs": [
    {
     "name": "stdout",
     "output_type": "stream",
     "text": [
      "[2, 57, 42, 53, 46, 4, 60, 42, 54, 4, 55, 42, 4, 60, 63, 50, 51, 46, 61, 62, 3]\n"
     ]
    }
   ],
   "source": [
    "# Function for sentence to index conversion\n",
    "def sentence2index(src, sentence_tokens, sentence_length, start_token=False, end_token=False):\n",
    "    token2index = hr_token2index if src == \"hr\" else en_token2index\n",
    "\n",
    "    if start_token:\n",
    "        sentence_index = [token2index[\"<START>\"]]\n",
    "    else:\n",
    "        sentence_index = []\n",
    "\n",
    "    sentence_index += [token2index[token.lower()] if token.lower() in token2index else token2index[\"<UNK>\"] for token in list(sentence_tokens)]\n",
    "\n",
    "    if end_token:\n",
    "        sentence_index.append(token2index[\"<END>\"])\n",
    "\n",
    "    sentence_index += [token2index[\"<PAD>\"] for _ in range(sentence_length - len(sentence_index))]\n",
    "\n",
    "    return sentence_index\n",
    "\n",
    "# Example usage\n",
    "hr_sentence = \"pale sam na svijetu\"\n",
    "hr_indexed_sentence = sentence2index(\"hr\", hr_sentence, 20, True, True)\n",
    "print(hr_indexed_sentence)"
   ]
  },
  {
   "cell_type": "code",
   "execution_count": 13,
   "metadata": {},
   "outputs": [],
   "source": [
    "class TranslationDataset(torch.utils.data.Dataset):\n",
    "    def __init__(self, hr_dataset, en_dataset, max_seq_length, take):\n",
    "        hr, en = self.remove_long_sentences(hr_dataset, en_dataset, max_seq_length)\n",
    "\n",
    "        train_data = []\n",
    "        test_data = []\n",
    "\n",
    "        for tokens in hr[:take]:\n",
    "            train_data.append(sentence2index(\"hr\", tokens, max_seq_length))\n",
    "\n",
    "        for tokens in en[:take]:\n",
    "            test_data.append(sentence2index(\"en\", tokens, max_seq_length, True, True))\n",
    "\n",
    "        train_data = torch.tensor(train_data)\n",
    "        test_data = torch.tensor(test_data)\n",
    "\n",
    "        self.X = train_data\n",
    "        self.y = test_data\n",
    "\n",
    "    def __len__(self):\n",
    "        return len(self.X)\n",
    "    \n",
    "    def __getitem__(self, idx):\n",
    "        return self.X[idx], self.y[idx]\n",
    "    \n",
    "    def remove_long_sentences(self, hr, en, max_length):\n",
    "        hr_short = []\n",
    "        en_short = []\n",
    "\n",
    "        print(hr[0])\n",
    "\n",
    "        for c, e in zip(hr, en):\n",
    "            if len(c) < max_length - 2 and len(e) < max_length - 2:\n",
    "                hr_short.append(c)\n",
    "                en_short.append(e)\n",
    "\n",
    "        return hr_short, en_short"
   ]
  },
  {
   "cell_type": "markdown",
   "metadata": {},
   "source": [
    "#### Initialization"
   ]
  },
  {
   "cell_type": "code",
   "execution_count": 14,
   "metadata": {},
   "outputs": [],
   "source": [
    "src_vocab_size = len(hr_vocab)\n",
    "tgt_vocab_size = len(en_vocab)\n",
    "d_model = 512\n",
    "num_heads = 8\n",
    "num_layers = 6\n",
    "d_ff = 2048\n",
    "max_seq_length = 200\n",
    "dropout = 0.1\n",
    "\n",
    "batch_size = 8\n",
    "num_epochs = 200"
   ]
  },
  {
   "cell_type": "code",
   "execution_count": 15,
   "metadata": {},
   "outputs": [
    {
     "name": "stdout",
     "output_type": "stream",
     "text": [
      "Jednog je jutra Pale ustao vrlo rano.\n",
      "\n",
      "Veličina skupa za treniranje: 81\n",
      "Veličina skupa za validaciju: 10\n",
      "Veličina skupa za testiranje: 11\n"
     ]
    }
   ],
   "source": [
    "translation_dataset = TranslationDataset(hr, en, max_seq_length, 3000)\n",
    "lengths = [int(0.8 * len(translation_dataset)),\n",
    "         int(0.1 * len(translation_dataset)), \n",
    "         len(translation_dataset) - int(0.8 * len(translation_dataset)) - int(0.1 * len(translation_dataset))]\n",
    "train_dataset, dev_dataset, test_dataset = torch.utils.data.dataset.random_split(translation_dataset, lengths=lengths)\n",
    "\n",
    "print(f'Veličina skupa za treniranje: {len(train_dataset)}')\n",
    "print(f'Veličina skupa za validaciju: {len(dev_dataset)}')\n",
    "print(f'Veličina skupa za testiranje: {len(test_dataset)}')\n",
    "\n",
    "\n",
    "train_loader = DataLoader(train_dataset, batch_size=batch_size, shuffle=False)\n",
    "dev_loader = DataLoader(dev_dataset, batch_size=batch_size, shuffle=False)\n",
    "test_loader = DataLoader(test_dataset, batch_size=batch_size, shuffle=False)"
   ]
  },
  {
   "cell_type": "code",
   "execution_count": 16,
   "metadata": {},
   "outputs": [
    {
     "name": "stdout",
     "output_type": "stream",
     "text": [
      "torch.Size([8, 200]) torch.Size([8, 200])\n"
     ]
    }
   ],
   "source": [
    "X_batch, y_batch = next(iter(train_loader))\n",
    "X_batch = X_batch.to(device)\n",
    "y_batch = y_batch.to(device)\n",
    "\n",
    "print(X_batch.size(), y_batch.size())"
   ]
  },
  {
   "cell_type": "code",
   "execution_count": 17,
   "metadata": {},
   "outputs": [],
   "source": [
    "transformer = Transformer(src_vocab_size, tgt_vocab_size, d_model, num_heads, num_layers, d_ff, max_seq_length, dropout)\n",
    "transformer = transformer.to(device)"
   ]
  },
  {
   "cell_type": "markdown",
   "metadata": {},
   "source": [
    "#### Training"
   ]
  },
  {
   "cell_type": "code",
   "execution_count": 25,
   "metadata": {},
   "outputs": [
    {
     "data": {
      "application/vnd.jupyter.widget-view+json": {
       "model_id": "0959404de91747ffb5e18e37e990db0e",
       "version_major": 2,
       "version_minor": 0
      },
      "text/plain": [
       "  0%|          | 0/200 [00:00<?, ?it/s]"
      ]
     },
     "metadata": {},
     "output_type": "display_data"
    }
   ],
   "source": [
    "def train_one_batch(transformer, X_batch, y_batch, num_epochs, tgt_vocab_size, leraning_rate=0.0001):\n",
    "    criterion = nn.CrossEntropyLoss(ignore_index=0)\n",
    "    optimizer = torch.optim.Adam(transformer.parameters(), lr=leraning_rate, betas=(0.9, 0.98), eps=1e-9)\n",
    "    progress_bar = tqdm(range(num_epochs), position=0, leave=True)\n",
    "\n",
    "    transformer.train()\n",
    "\n",
    "    for epoch in progress_bar:\n",
    "        optimizer.zero_grad()\n",
    "\n",
    "        output = transformer(X_batch, y_batch[:, :-1])\n",
    "\n",
    "        o = output.contiguous().view(-1, tgt_vocab_size)\n",
    "        y = y_batch[:, 1:].contiguous().view(-1)\n",
    "\n",
    "        loss = criterion(o, y)\n",
    "        loss.backward()\n",
    "        optimizer.step()\n",
    "        \n",
    "        progress_bar.set_description(f\"Epoch {epoch + 1} | Train Loss: {loss.item()}\")\n",
    "\n",
    "train_one_batch(transformer, X_batch, y_batch, num_epochs, tgt_vocab_size)"
   ]
  },
  {
   "cell_type": "code",
   "execution_count": 19,
   "metadata": {},
   "outputs": [
    {
     "data": {
      "text/plain": [
       "'df8c8944'"
      ]
     },
     "execution_count": 19,
     "metadata": {},
     "output_type": "execute_result"
    }
   ],
   "source": [
    "def save_transformer(transformer):\n",
    "    path = \"./models\"\n",
    "\n",
    "    model_id = str(uuid.uuid4())[:8]\n",
    "\n",
    "    model_args = { \"src_vocab_size\": len(hr_vocab), \n",
    "                   \"tgt_vocab_size\": len(en_vocab), \n",
    "                   \"d_model\": d_model, \n",
    "                   \"num_heads\": num_heads, \n",
    "                   \"num_layers\": num_layers, \n",
    "                   \"d_ff\": d_ff, \n",
    "                   \"max_seq_length\": max_seq_length, \n",
    "                   \"dropout\": dropout }\n",
    "    \n",
    "    json_object = json.dumps(model_args, indent=4)\n",
    "\n",
    "    torch.save(transformer.state_dict(), path + f'/{model_id}.pt')\n",
    "\n",
    "    with open(path + f'/{model_id}.json', \"w\") as outfile:\n",
    "        outfile.write(json_object)\n",
    "\n",
    "    return model_id\n",
    "\n",
    "save_transformer(transformer)"
   ]
  },
  {
   "cell_type": "code",
   "execution_count": 26,
   "metadata": {},
   "outputs": [
    {
     "name": "stdout",
     "output_type": "stream",
     "text": [
      "ali u trgovini nema nikoga kome bi platio. uvidi da mu novci ništa ne vrijede.<UNK><PAD><PAD><PAD><PAD><PAD><PAD><PAD><PAD><PAD><PAD><PAD><PAD><PAD><PAD><PAD><PAD><PAD><PAD><PAD><PAD><PAD><PAD><PAD><PAD><PAD><PAD><PAD><PAD><PAD><PAD><PAD><PAD><PAD><PAD><PAD><PAD><PAD><PAD><PAD><PAD><PAD><PAD><PAD><PAD><PAD><PAD><PAD><PAD><PAD><PAD><PAD><PAD><PAD><PAD><PAD><PAD><PAD><PAD><PAD><PAD><PAD><PAD><PAD><PAD><PAD><PAD><PAD><PAD><PAD><PAD><PAD><PAD><PAD><PAD><PAD><PAD><PAD><PAD><PAD><PAD><PAD><PAD><PAD><PAD><PAD><PAD><PAD><PAD><PAD><PAD><PAD><PAD><PAD><PAD><PAD><PAD><PAD><PAD><PAD><PAD><PAD><PAD><PAD><PAD><PAD><PAD><PAD><PAD><PAD><PAD><PAD><PAD><PAD><PAD><PAD><PAD><PAD><PAD><PAD><PAD><PAD>"
     ]
    }
   ],
   "source": [
    "sent = X_batch[2]\n",
    "for s in sent:\n",
    "    print(hr_index2token[s.item()], end=\"\")"
   ]
  },
  {
   "cell_type": "code",
   "execution_count": 33,
   "metadata": {},
   "outputs": [
    {
     "data": {
      "text/plain": [
       "'but there was no one in the store to pay. he realized that his money was worthless.<UNK>al eoser    ewrw'"
      ]
     },
     "execution_count": 33,
     "metadata": {},
     "output_type": "execute_result"
    }
   ],
   "source": [
    "def translate(sentance, model):\n",
    "    result = \"\"\n",
    "    src = torch.tensor([sentence2index(\"hr\", sentance, max_seq_length)]).to(device)\n",
    "    \n",
    "    for i in range(max_seq_length//2):\n",
    "        tgt = torch.tensor([sentence2index(\"en\", result, max_seq_length, start_token = True)]).to(device)\n",
    "\n",
    "        output = model(src, tgt)\n",
    "\n",
    "        next_word_prob = output[0][i]\n",
    "        next_word_index = torch.argmax(next_word_prob).item()\n",
    "        next_word = en_index2token[next_word_index]\n",
    "\n",
    "        if next_word == \"<END>\":\n",
    "            break\n",
    "\n",
    "        result += next_word\n",
    "\n",
    "    return result\n",
    "\n",
    "translate(\"ali u trgovini nema nikoga kome bi platio. uvidi da mu novci ništa ne vrijede.\", transformer)"
   ]
  },
  {
   "cell_type": "code",
   "execution_count": 22,
   "metadata": {},
   "outputs": [],
   "source": [
    "def train(transformer, train_loader, dev_loader, num_epochs, tgt_vocab_size, leraning_rate=0.0001):\n",
    "    criterion = nn.CrossEntropyLoss(ignore_index=0)\n",
    "    optimizer = torch.optim.Adam(transformer.parameters(), lr=leraning_rate, betas=(0.9, 0.98), eps=1e-9)\n",
    "\n",
    "    progress_bar = tqdm(range(num_epochs), position=0, leave=True)\n",
    "\n",
    "    train_epoch_loss = 0\n",
    "    dev_epoch_loss = 0\n",
    "\n",
    "    for epoch in progress_bar:\n",
    "        transformer.train()\n",
    "\n",
    "        for i, (X_batch, y_batch) in enumerate(train_loader):\n",
    "            X_batch = X_batch.to(device)\n",
    "            y_batch = y_batch.to(device)\n",
    "            output = transformer(X_batch, y_batch[:, :-1])\n",
    "\n",
    "            o = output.contiguous().view(-1, tgt_vocab_size)\n",
    "            y = y_batch[:, 1:].contiguous().view(-1)\n",
    "\n",
    "            loss = criterion(o, y)\n",
    "\n",
    "            optimizer.zero_grad()\n",
    "            loss.backward()\n",
    "            optimizer.step()\n",
    "\n",
    "            train_epoch_loss += loss.item()\n",
    "\n",
    "        transformer.eval()\n",
    "        \n",
    "        for i, (X_batch, y_batch) in enumerate(dev_loader):\n",
    "            X_batch = X_batch.to(device)\n",
    "            y_batch = y_batch.to(device)\n",
    "            output = transformer(X_batch, y_batch[:, :-1])\n",
    "\n",
    "            o = output.contiguous().view(-1, tgt_vocab_size)\n",
    "            y = y_batch[:, 1:].contiguous().view(-1)\n",
    "\n",
    "            loss = criterion(o, y)\n",
    "            dev_epoch_loss += loss.item()\n",
    "\n",
    "        progress_bar.set_description(f\"Epoch {epoch + 1} | Batch {i + 1} | Train loss: {train_epoch_loss / len(train_loader)} | Dev Loss: {dev_epoch_loss / len(dev_loader)}\")\n",
    "\n",
    "# train(transformer, train_loader, dev_loader, num_epochs, tgt_vocab_size)"
   ]
  },
  {
   "cell_type": "markdown",
   "metadata": {},
   "source": [
    "#### Loading model"
   ]
  },
  {
   "cell_type": "code",
   "execution_count": 23,
   "metadata": {},
   "outputs": [],
   "source": [
    "def load_transformer(model_id):\n",
    "    with open(f\"./models/{model_id}.json\", \"r\") as file:\n",
    "        model_args = json.load(file)\n",
    "\n",
    "    transformer = Transformer(**model_args)\n",
    "    transformer.load_state_dict(torch.load(f\"./models/{model_id}.pt\"))\n",
    "    transformer = transformer.to(device)\n",
    "    transformer.eval()\n",
    "\n",
    "    return transformer"
   ]
  },
  {
   "cell_type": "code",
   "execution_count": 34,
   "metadata": {},
   "outputs": [
    {
     "data": {
      "text/plain": [
       "'but there was no one in the store to pay. he realized that his money was worthless.<UNK><UNK>l eosloe.er   y'"
      ]
     },
     "execution_count": 34,
     "metadata": {},
     "output_type": "execute_result"
    }
   ],
   "source": [
    "saved_transformer = load_transformer(\"df8c8944\")\n",
    "\n",
    "translate(\"ali u trgovini nema nikoga kome bi platio. uvidi da mu novci ništa ne vrijede.\", transformer)"
   ]
  }
 ],
 "metadata": {
  "kernelspec": {
   "display_name": "Python 3",
   "language": "python",
   "name": "python3"
  },
  "language_info": {
   "codemirror_mode": {
    "name": "ipython",
    "version": 3
   },
   "file_extension": ".py",
   "mimetype": "text/x-python",
   "name": "python",
   "nbconvert_exporter": "python",
   "pygments_lexer": "ipython3",
   "version": "3.11.5"
  },
  "orig_nbformat": 4
 },
 "nbformat": 4,
 "nbformat_minor": 2
}
